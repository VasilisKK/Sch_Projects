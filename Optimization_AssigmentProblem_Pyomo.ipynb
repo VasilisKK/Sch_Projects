{
 "cells": [
  {
   "cell_type": "markdown",
   "metadata": {},
   "source": [
    "$\\text{We are going to Use Python's package pyomo for solving the following assignment problem}$"
   ]
  },
  {
   "cell_type": "markdown",
   "metadata": {},
   "source": [
    "UPak is a subsidiary of a transport company with LTL trucks.\n",
    "UPak customers offer for each load a price in monetary units per cubic meter for the volume it occupies. Acceptance or not of the order to be transferred is left to UPak. The number of potential orders is a parameter N of the problem. The price offered by the customers for each load is given in the Profits [N] vector while the volume of the loads in cubic meters is given in the Size [N] vector\n",
    "Customers bring their loads to the UPak terminal to be loaded on trailers whose capacity is finite. Note that the number of vehicles available to the company is a T parameter and the vehicle capacities in cubic meters are given in the Capacities [T] vector. Please note that partial loading of an order is not allowed. In other words, each load can be loaded at most in one vehicle.\n",
    "UPak management wants to automate the process of selecting and assigning those orders to available vehicles in a way that maximizes its profits.\n",
    "There are couples of orders that when placed in the same truck UPak receives some extra profit (this results from savings in the process of loading some orders). The above set of binary orders is given in the Combined vector [C], where C is the dimension of the vector. The CombinedProfits vector [C] contains the total profit for each such combination. For example, a unit of orders with indices 0 and 1 respectively can result in a profit of 120 and 93 km. per cubic meter, however, if and only if both are loaded on the same truck, UPak has an additional total profit from the combination, which is equal to 500 km."
   ]
  },
  {
   "cell_type": "markdown",
   "metadata": {},
   "source": [
    "$ \\text{The formulation of the problem} $"
   ]
  },
  {
   "cell_type": "markdown",
   "metadata": {},
   "source": [
    "$ \\text{Variables :}  $\n",
    "\n",
    "$ y_{ij} = \\begin{cases} 1,& \\text{if  i truck contains j order} \\\\ 0,& \\text{if not}  \n",
    "\\end{cases} \\\\ \\\\ x_j =\\begin{cases} 1,&\\text{if  j order is going to be deliverd}\\\\ 0,& \\text{ if not } \\end{cases} \\\\ \\\\ \\text{ i=0,1,2...,T-1 and j= 0,1,2,...,N-1  } \\\\ c_{ij} = \\begin{cases} 1,& \\text{If $D_i$ couple  is contained in truck j} \\\\0 ,& \\text{if not} \n",
    "\\end{cases}$ \\\\ \n",
    "\n",
    "$ \\text {Objective: }  \\\\ ΜΑΧ \\sum_{i=0}^{i=N-1}S_{i} P_{i} x_i + \\sum_{i=0}^{i=C-1} \\sum_{j=0}^{j=T-1}c_{ij}E_i $\n",
    "\n",
    "$ \\text{S.T :}  \\\\ x_j=\\sum_{i=0}^{i=T-1} y_{ij} \\ \\  j=0,1,2,...,N-1 \\\\ \\sum_{j=0}^{j=N-1} S_{j} y_{ij} \\leq C_i \\ i=0,1,2,....,T-1\\\\ $\n",
    "\n",
    "\n",
    "$ \\text{for every couple} \\ (l,k)= D_0, D_1,..,D_{C-1} $  \n",
    "\n",
    "$ c_{ij} \\leq 1+2 -y_{jl}-y_{jk}  $\n",
    "\n",
    "\n",
    "$ c_{ij} \\geq 1-2 + y_{jl}+y_{jk} $\n",
    "\n",
    "$ y_{jl}+y_{jk} \\leq 2 + 2(1-c_{ij})$\n",
    "\n",
    "$ y_{jl}+y_{jk} \\geq 2- 2(1-c_{ij})\\\\ \\\\  ( \\forall j : j \\in          \\{0,1,2,..,T-1\\}) $"
   ]
  },
  {
   "cell_type": "code",
   "execution_count": 33,
   "metadata": {},
   "outputs": [
    {
     "name": "stdout",
     "output_type": "stream",
     "text": [
      "WARNING: DEPRECATED: The .value property getter on SimpleObjective is\n",
      "    deprecated. Use the .expr property getter instead\n",
      "The Maximum profit is:   8518.0\n",
      "orders assigned in truck 0 :     [1, 7, 8]\n",
      "capacity used in truck 0 35.0\n",
      "orders assigned in truck 1 :     [4, 5, 6]\n",
      "capacity used in truck 1 34.0\n"
     ]
    }
   ],
   "source": [
    "from pyomo.environ import *\n",
    "\n",
    "import json\n",
    "\n",
    "\n",
    "model=ConcreteModel()\n",
    "with open('lowdimdata.json') as f:\n",
    "    data = json.load(f)\n",
    "\n",
    "\n",
    "\n",
    "Capacities=tuple(int(i) for i in data['Capacity'].split(','))\n",
    "T=len(Capacities)\n",
    "\n",
    "Profits=tuple(int(i) for i in data['Profit'].split(','))\n",
    "N=len(Profits)\n",
    "\n",
    "\n",
    "Sizes=tuple(int(i) for i in data['Size'].split(','))\n",
    "\n",
    "C=len(data['Combined'])\n",
    "Combined=tuple((tuple(data['Combined'][j].split(',')) for j in range(C)))\n",
    "\n",
    "Combined=tuple(map(lambda x: (int(x[0]),int(x[1])) , Combined))\n",
    "\n",
    "CombinedProfits=tuple(int(i ) for i in data['CombinedProfits'].split(','))\n",
    "\n",
    "model.x=Var(range(N),domain=Binary)\n",
    "\n",
    "\n",
    "\n",
    "model.y=Var(range(T),range(N) ,domain=Binary)\n",
    "model.cp=Var(range(C),range(T),domain=Binary)\n",
    "\n",
    "\n",
    "model.Cap=ConstraintList()\n",
    "for j in range(T) :\n",
    "\n",
    "    model.Cap.add(expr=sum(Sizes[i]*model.y[j,i] for i  in range(N)) <= Capacities[j])\n",
    "\n",
    "\n",
    "def rule(model,i):\n",
    "    return model.x[i]==sum(model.y[j,i] for j in range(T))\n",
    "\n",
    "model.order_assign=Constraint(range(N),rule=rule )\n",
    "\n",
    "model.combinedProf=ConstraintList()\n",
    "\n",
    "for k in range(C):\n",
    "    for j in range(T) :\n",
    "        model.combinedProf.add(expr=model.cp[k,j]<=\n",
    "                            1+ 2- model.y[j,Combined[k][0]]- model.y[j,Combined[k][1]])\n",
    "        model.combinedProf.add(expr=model.cp[k,j]>=\n",
    "                            1-2+ model.y[j,Combined[k][0]]+model.y[j,Combined[k][1]])\n",
    "\n",
    "model.cpbo=ConstraintList()\n",
    "\n",
    "for k in range(C):\n",
    "    for j in range(T):\n",
    "        model.cpbo.add(expr= model.y[j,Combined[k][0]]+model.y[j,Combined[k][1]] <= 2+2*(1-model.cp[k,j]))\n",
    "        model.cpbo.add(expr= model.y[j,Combined[k][0]]+model.y[j,Combined[k][1]]>= 2-2*(1-model.cp[k,j]))\n",
    "        \n",
    "        \n",
    "\n",
    "\n",
    "model.obj=Objective(\n",
    "    expr= sum(Sizes[i]*Profits[i] *  model.x[i] for i in range(N))\n",
    "                +sum(CombinedProfits[i]*sum(model.cp[i,j] for j in range(T)) for i in range(C) ),sense=maximize)\n",
    "\n",
    "\n",
    "opt=SolverFactory('cplex')\n",
    "\n",
    "opt.solve(model)\n",
    "\n",
    "\n",
    "print('The Maximum profit is:  ',model.obj.value())\n",
    "for i in range(T):\n",
    "    s=[j for j in range(N) if model.y[i,j].value==1]\n",
    "    \n",
    "    print(f'orders assigned in truck {i} :    ' ,s)\n",
    "    print(f'capacity used in truck {i}',sum(Sizes[j]*model.y[i,j].value for j in s))"
   ]
  },
  {
   "cell_type": "code",
   "execution_count": 34,
   "metadata": {},
   "outputs": [
    {
     "data": {
      "text/plain": [
       "{'Capacity': '36,36',\n",
       " 'Profit': '120,93,70,85,125,104,98,130,140,65',\n",
       " 'Size': '5,11,22,15,7,9,18,14,10,12',\n",
       " 'Combined': ['0,1', '5,6'],\n",
       " 'CombinedProfits': '500,700'}"
      ]
     },
     "execution_count": 34,
     "metadata": {},
     "output_type": "execute_result"
    }
   ],
   "source": [
    "data"
   ]
  },
  {
   "cell_type": "code",
   "execution_count": null,
   "metadata": {},
   "outputs": [],
   "source": []
  }
 ],
 "metadata": {
  "kernelspec": {
   "display_name": "Python 3",
   "language": "python",
   "name": "python3"
  },
  "language_info": {
   "codemirror_mode": {
    "name": "ipython",
    "version": 3
   },
   "file_extension": ".py",
   "mimetype": "text/x-python",
   "name": "python",
   "nbconvert_exporter": "python",
   "pygments_lexer": "ipython3",
   "version": "3.7.6"
  }
 },
 "nbformat": 4,
 "nbformat_minor": 4
}
